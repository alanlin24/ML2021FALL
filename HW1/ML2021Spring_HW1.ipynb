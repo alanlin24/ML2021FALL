{
 "cells": [
  {
   "cell_type": "markdown",
   "metadata": {
    "id": "mz0_QVkxCrX3"
   },
   "source": [
    "# **Homework 1: COVID-19 Cases Prediction (Regression)**"
   ]
  },
  {
   "cell_type": "markdown",
   "metadata": {
    "id": "ZeZnPAiwDRWG"
   },
   "source": [
    "Slides: https://github.com/ga642381/ML2021-Spring/blob/main/HW01/HW01.pdf  \n",
    "\n",
    "Objectives:\n",
    "* Solve a regression problem with deep neural networks (DNN).\n",
    "* Understand basic DNN training tips.\n",
    "* Get familiar with PyTorch.\n",
    "\n",
    "If any questions, please contact the TAs via TA hours, NTU COOL, or email.\n"
   ]
  },
  {
   "cell_type": "markdown",
   "metadata": {
    "id": "Jx3x1nDkG-Uy"
   },
   "source": [
    "# **Download Data**\n",
    "\n",
    "\n",
    "If the Google drive links are dead, you can download data from [kaggle](https://www.kaggle.com/c/ml2021spring-hw1/data), and upload data manually to the workspace."
   ]
  },
  {
   "cell_type": "code",
   "execution_count": 32,
   "metadata": {
    "colab": {
     "base_uri": "https://localhost:8080/"
    },
    "id": "tMj55YDKG6ch",
    "outputId": "773d3d79-7900-47b9-8829-8de5fa0ef2aa"
   },
   "outputs": [
    {
     "name": "stdout",
     "output_type": "stream",
     "text": [
      "Downloading...\n",
      "From: https://drive.google.com/uc?id=19CCyCgJrUxtvgZF53vnctJiOJ23T5mqF\n",
      "To: /content/covid.train.csv\n",
      "100% 2.00M/2.00M [00:00<00:00, 63.8MB/s]\n",
      "Downloading...\n",
      "From: https://drive.google.com/uc?id=1CE240jLm2npU-tdz81-oVKEF3T2yfT1O\n",
      "To: /content/covid.test.csv\n",
      "100% 651k/651k [00:00<00:00, 20.7MB/s]\n"
     ]
    }
   ],
   "source": [
    "tr_path = 'covid.train.csv'  # path to training data\n",
    "tt_path = 'covid.test.csv'   # path to testing data\n",
    "\n",
    "!gdown --id '19CCyCgJrUxtvgZF53vnctJiOJ23T5mqF' --output covid.train.csv\n",
    "!gdown --id '1CE240jLm2npU-tdz81-oVKEF3T2yfT1O' --output covid.test.csv"
   ]
  },
  {
   "cell_type": "markdown",
   "metadata": {
    "id": "wS_4-77xHk44"
   },
   "source": [
    "# **Import Some Packages**"
   ]
  },
  {
   "cell_type": "code",
   "execution_count": 33,
   "metadata": {
    "id": "k-onQd4JNA5H"
   },
   "outputs": [],
   "source": [
    "# PyTorch\n",
    "import torch\n",
    "import torch.nn as nn\n",
    "from torch.utils.data import Dataset, DataLoader\n",
    "\n",
    "# For data preprocess\n",
    "import numpy as np\n",
    "import csv\n",
    "import os\n",
    "\n",
    "# For plotting\n",
    "import matplotlib.pyplot as plt\n",
    "from matplotlib.pyplot import figure\n",
    "\n",
    "# self usage\n",
    "from sklearn.preprocessing import MinMaxScaler\n",
    "min_max_scaler=MinMaxScaler()\n",
    "\n",
    "myseed = 42069  # set a random seed for reproducibility\n",
    "torch.backends.cudnn.deterministic = True\n",
    "torch.backends.cudnn.benchmark = False\n",
    "np.random.seed(myseed)\n",
    "torch.manual_seed(myseed)\n",
    "if torch.cuda.is_available():\n",
    "    torch.cuda.manual_seed_all(myseed)"
   ]
  },
  {
   "cell_type": "markdown",
   "metadata": {
    "id": "BtE3b6JEH7rw"
   },
   "source": [
    "# **Some Utilities**\n",
    "\n",
    "You do not need to modify this part."
   ]
  },
  {
   "cell_type": "code",
   "execution_count": 34,
   "metadata": {
    "id": "FWMT3uf1NGQp"
   },
   "outputs": [],
   "source": [
    "def get_device():\n",
    "    ''' Get device (if GPU is available, use GPU) '''\n",
    "    return 'cuda' if torch.cuda.is_available() else 'cpu'\n",
    "\n",
    "def plot_learning_curve(loss_record, title=''):\n",
    "    ''' Plot learning curve of your DNN (train & dev loss) '''\n",
    "    total_steps = len(loss_record['train'])\n",
    "    x_1 = range(total_steps)\n",
    "    x_2 = x_1[::len(loss_record['train']) // len(loss_record['dev'])]\n",
    "    figure(figsize=(6, 4))\n",
    "    plt.plot(x_1, loss_record['train'], c='tab:red', label='train')\n",
    "    plt.plot(x_2, loss_record['dev'], c='tab:cyan', label='dev')\n",
    "    plt.ylim(0.0, 5.)\n",
    "    plt.xlabel('Training steps')\n",
    "    plt.ylabel('MSE loss')\n",
    "    plt.title('Learning curve of {}'.format(title))\n",
    "    plt.legend()\n",
    "    plt.show()\n",
    "\n",
    "\n",
    "def plot_pred(dv_set, model, device, lim=35., preds=None, targets=None):\n",
    "    ''' Plot prediction of your DNN '''\n",
    "    if preds is None or targets is None:\n",
    "        model.eval()\n",
    "        preds, targets = [], []\n",
    "        for x, y in dv_set:\n",
    "            x, y = x.to(device), y.to(device)\n",
    "            with torch.no_grad():\n",
    "                pred = model(x)\n",
    "                preds.append(pred.detach().cpu())\n",
    "                targets.append(y.detach().cpu())\n",
    "        preds = torch.cat(preds, dim=0).numpy()\n",
    "        targets = torch.cat(targets, dim=0).numpy()\n",
    "\n",
    "    figure(figsize=(5, 5))\n",
    "    plt.scatter(targets, preds, c='r', alpha=0.5)\n",
    "    plt.plot([-0.2, lim], [-0.2, lim], c='b')\n",
    "    plt.xlim(-0.2, lim)\n",
    "    plt.ylim(-0.2, lim)\n",
    "    plt.xlabel('ground truth value')\n",
    "    plt.ylabel('predicted value')\n",
    "    plt.title('Ground Truth v.s. Prediction')\n",
    "    plt.show()"
   ]
  },
  {
   "cell_type": "markdown",
   "metadata": {
    "id": "39U_XFX6KOoj"
   },
   "source": [
    "# **Preprocess**\n",
    "\n",
    "We have three kinds of datasets:\n",
    "* `train`: for training\n",
    "* `dev`: for validation\n",
    "* `test`: for testing (w/o target value)"
   ]
  },
  {
   "cell_type": "markdown",
   "metadata": {
    "id": "TQ-MdwpLL7Dt"
   },
   "source": [
    "## **Dataset**\n",
    "\n",
    "The `COVID19Dataset` below does:\n",
    "* read `.csv` files\n",
    "* extract features\n",
    "* split `covid.train.csv` into train/dev sets\n",
    "* normalize features\n",
    "\n",
    "Finishing `TODO` below might make you pass medium baseline."
   ]
  },
  {
   "cell_type": "code",
   "execution_count": 35,
   "metadata": {
    "id": "0zlpIp9ANJRU"
   },
   "outputs": [],
   "source": [
    "class COVID19Dataset(Dataset):\n",
    "    ''' Dataset for loading and preprocessing the COVID19 dataset '''\n",
    "    def __init__(self,\n",
    "                 path,\n",
    "                 mode='train',\n",
    "                 target_only=False):\n",
    "        self.mode = mode\n",
    "\n",
    "        # Read data into numpy arrays\n",
    "        with open(path, 'r') as fp:\n",
    "            data = list(csv.reader(fp))\n",
    "            data = np.array(data[1:])[:, 1:].astype(float)\n",
    "        \n",
    "        if not target_only:\n",
    "            feats = list(range(93))\n",
    "        else:\n",
    "            # TODO: Using 40 states & 2 tested_positive features (indices = 57 & 75)\n",
    "            # indeices 39 + 5 & 39 + 23 (mask or not)\n",
    "            feats = [57, 75] + [40, 41, 42, 43] + [58, 59, 60, 61] +[76, 77 ,78, 79]\n",
    "            # list(range(40)) + \n",
    "            pass\n",
    "\n",
    "        if mode == 'test':\n",
    "            # Testing data\n",
    "            # data: 893 x 93 (40 states + day 1 (18) + day 2 (18) + day 3 (17))\n",
    "            \n",
    "            #normalize\n",
    "            #data = torch.FloatTensor(min_max_scaler.transform(data[:, 40:]))\n",
    "\n",
    "            data = data[:, feats]\n",
    "            self.data = torch.FloatTensor(data)\n",
    "            \n",
    "        else:\n",
    "            # Training data (train/dev sets)\n",
    "            # data: 2700 x 94 (40 states + day 1 (18) + day 2 (18) + day 3 (18))\n",
    "\n",
    "            # normalize\n",
    "            #data = torch.FloatTensor(min_max_scaler.fit_transform(data[:, 40:]))\n",
    "\n",
    "            target = data[:, -1]\n",
    "            data = data[:, feats]\n",
    "            \n",
    "            # Splitting training data into train & dev sets\n",
    "            if mode == 'train':\n",
    "                indices = [i for i in range(len(data))]# if i % 10 != 4]\n",
    "            elif mode == 'dev':\n",
    "                indices = [i for i in range(len(data))if i % 4 == 0]\n",
    "            \n",
    "            # Convert data into PyTorch tensors\n",
    "            self.data = torch.FloatTensor(data[indices])\n",
    "            self.target = torch.FloatTensor(target[indices])\n",
    "            \n",
    "\n",
    "        # Normalize features (you may remove this part to see what will happen)\n",
    "        #self.data[:, feats] = \\\n",
    "         #   (self.data[:, feats] - self.data[:, feats].min(dim=0, keepdim=True)) \\\n",
    "          #  / (self.data[:, feats].max(dim=0, keepdim=True) - self.data[:, feats].min(dim=0, keepdim=True))\n",
    "        #(self.data[:, 40:] - self.data[:, 40:].mean(dim=0, keepdim=True)) / self.data[:, 40:].std(dim=0, keepdim=True)\n",
    "        \n",
    "        self.dim = self.data.shape[1]\n",
    "\n",
    "        print('Finished reading the {} set of COVID19 Dataset ({} samples found, each dim = {})'\n",
    "              .format(mode, len(self.data), self.dim))\n",
    "\n",
    "    def __getitem__(self, index):\n",
    "        # Returns one sample at a time\n",
    "        if self.mode in ['train', 'dev']:\n",
    "            # For training\n",
    "            return self.data[index], self.target[index]\n",
    "        else:\n",
    "            # For testing (no target)\n",
    "            return self.data[index]\n",
    "\n",
    "    def __len__(self):\n",
    "        # Returns the size of the dataset\n",
    "        return len(self.data)"
   ]
  },
  {
   "cell_type": "markdown",
   "metadata": {
    "id": "AlhTlkE7MDo3"
   },
   "source": [
    "## **DataLoader**\n",
    "\n",
    "A `DataLoader` loads data from a given `Dataset` into batches.\n"
   ]
  },
  {
   "cell_type": "code",
   "execution_count": 36,
   "metadata": {
    "id": "hlhLk5t6MBX3"
   },
   "outputs": [],
   "source": [
    "def prep_dataloader(path, mode, batch_size, n_jobs=0, target_only=False):\n",
    "    ''' Generates a dataset, then is put into a dataloader. '''\n",
    "    dataset = COVID19Dataset(path, mode=mode, target_only=target_only)  # Construct dataset\n",
    "    dataloader = DataLoader(\n",
    "        dataset, batch_size,\n",
    "        shuffle=(mode == 'train'), drop_last=False,\n",
    "        num_workers=n_jobs, pin_memory=True)                            # Construct dataloader\n",
    "    return dataloader"
   ]
  },
  {
   "cell_type": "markdown",
   "metadata": {
    "id": "SGuycwR0MeQB"
   },
   "source": [
    "# **Deep Neural Network**\n",
    "\n",
    "`NeuralNet` is an `nn.Module` designed for regression.\n",
    "The DNN consists of 2 fully-connected layers with ReLU activation.\n",
    "This module also included a function `cal_loss` for calculating loss.\n"
   ]
  },
  {
   "cell_type": "code",
   "execution_count": 37,
   "metadata": {
    "id": "49-uXYovOAI0"
   },
   "outputs": [],
   "source": [
    "class NeuralNet(nn.Module):\n",
    "    ''' A simple fully-connected deep neural network '''\n",
    "    def __init__(self, input_dim):\n",
    "        super(NeuralNet, self).__init__()\n",
    "\n",
    "        # Define your neural network here\n",
    "        # TODO: How to modify this model to achieve better performance?\n",
    "        self.net = nn.Sequential(\n",
    "            nn.Linear(input_dim, 64),\n",
    "            nn.Linear(64, 32),\n",
    "            nn.Linear(32, 1),\n",
    "            #nn.ReLU(),\n",
    "            \n",
    "        )\n",
    "\n",
    "        # Mean squared error loss\n",
    "        self.criterion = nn.MSELoss(reduction='mean')\n",
    "\n",
    "    def forward(self, x):\n",
    "        ''' Given input of size (batch_size x input_dim), compute output of the network '''\n",
    "        return self.net(x).squeeze(1)\n",
    "\n",
    "    def cal_loss(self, pred, target):\n",
    "        ''' Calculate loss '''\n",
    "        # TODO: you may implement L2 regularization here\n",
    "        return torch.sqrt(self.criterion(pred, target))"
   ]
  },
  {
   "cell_type": "markdown",
   "metadata": {
    "id": "DvFWVjZ5Nvga"
   },
   "source": [
    "# **Train/Dev/Test**"
   ]
  },
  {
   "cell_type": "markdown",
   "metadata": {
    "id": "MAM8QecJOyqn"
   },
   "source": [
    "## **Training**"
   ]
  },
  {
   "cell_type": "code",
   "execution_count": 38,
   "metadata": {
    "id": "lOqcmYzMO7jB"
   },
   "outputs": [],
   "source": [
    "def train(tr_set, dv_set, model, config, device):\n",
    "    ''' DNN training '''\n",
    "\n",
    "    n_epochs = config['n_epochs']  # Maximum number of epochs\n",
    "\n",
    "    # Setup optimizer\n",
    "    optimizer = getattr(torch.optim, config['optimizer'])(\n",
    "        model.parameters(), **config['optim_hparas'])\n",
    "\n",
    "    min_mse = 1000.\n",
    "    loss_record = {'train': [], 'dev': []}      # for recording training loss\n",
    "    early_stop_cnt = 0\n",
    "    epoch = 0\n",
    "    while epoch < n_epochs:\n",
    "        model.train()                           # set model to training mode\n",
    "        for x, y in tr_set:                     # iterate through the dataloader\n",
    "            optimizer.zero_grad()               # set gradient to zero\n",
    "            x, y = x.to(device), y.to(device)   # move data to device (cpu/cuda)\n",
    "            pred = model(x)                     # forward pass (compute output)\n",
    "            mse_loss = model.cal_loss(pred, y)  # compute loss\n",
    "            mse_loss.backward()                 # compute gradient (backpropagation)\n",
    "            optimizer.step()                    # update model with optimizer\n",
    "            loss_record['train'].append(mse_loss.detach().cpu().item())\n",
    "\n",
    "        # After each epoch, test your model on the validation (development) set.\n",
    "        dev_mse = dev(dv_set, model, device)\n",
    "        if dev_mse < min_mse:\n",
    "            # Save model if your model improved\n",
    "            min_mse = dev_mse\n",
    "            print('Saving model (epoch = {:4d}, loss = {:.4f})'\n",
    "                .format(epoch + 1, min_mse))\n",
    "            torch.save(model.state_dict(), config['save_path'])  # Save model to specified path\n",
    "            early_stop_cnt = 0\n",
    "        else:\n",
    "            early_stop_cnt += 1\n",
    "\n",
    "        epoch += 1\n",
    "        loss_record['dev'].append(dev_mse)\n",
    "        if early_stop_cnt > config['early_stop']:\n",
    "            # Stop training if your model stops improving for \"config['early_stop']\" epochs.\n",
    "            break\n",
    "\n",
    "    print('Finished training after {} epochs'.format(epoch))\n",
    "    return min_mse, loss_record"
   ]
  },
  {
   "cell_type": "markdown",
   "metadata": {
    "id": "0hSd4Bn3O2PL"
   },
   "source": [
    "## **Validation**"
   ]
  },
  {
   "cell_type": "code",
   "execution_count": 39,
   "metadata": {
    "id": "yrxrD3YsN3U2"
   },
   "outputs": [],
   "source": [
    "def dev(dv_set, model, device):\n",
    "    model.eval()                                # set model to evalutation mode\n",
    "    total_loss = 0\n",
    "    for x, y in dv_set:                         # iterate through the dataloader\n",
    "        x, y = x.to(device), y.to(device)       # move data to device (cpu/cuda)\n",
    "        with torch.no_grad():                   # disable gradient calculation\n",
    "            pred = model(x)                     # forward pass (compute output)\n",
    "            mse_loss = model.cal_loss(pred, y)  # compute loss\n",
    "        total_loss += mse_loss.detach().cpu().item() * len(x)  # accumulate loss\n",
    "    total_loss = total_loss / len(dv_set.dataset)              # compute averaged loss\n",
    "\n",
    "    return total_loss"
   ]
  },
  {
   "cell_type": "markdown",
   "metadata": {
    "id": "g0pdrhQAO41L"
   },
   "source": [
    "## **Testing**"
   ]
  },
  {
   "cell_type": "code",
   "execution_count": 40,
   "metadata": {
    "id": "aSBMRFlYN5tB"
   },
   "outputs": [],
   "source": [
    "def test(tt_set, model, device):\n",
    "    model.eval()                                # set model to evalutation mode\n",
    "    preds = []\n",
    "    for x in tt_set:                            # iterate through the dataloader\n",
    "        x = x.to(device)                        # move data to device (cpu/cuda)\n",
    "        with torch.no_grad():                   # disable gradient calculation\n",
    "            pred = model(x)                     # forward pass (compute output)\n",
    "            preds.append(pred.detach().cpu())   # collect prediction\n",
    "    preds = torch.cat(preds, dim=0).numpy()     # concatenate all predictions and convert to a numpy array\n",
    "    return preds"
   ]
  },
  {
   "cell_type": "markdown",
   "metadata": {
    "id": "SvckkF5dvf0j"
   },
   "source": [
    "# **Setup Hyper-parameters**\n",
    "\n",
    "`config` contains hyper-parameters for training and the path to save your model."
   ]
  },
  {
   "cell_type": "code",
   "execution_count": 41,
   "metadata": {
    "id": "NPXpdumwPjE7"
   },
   "outputs": [],
   "source": [
    "device = get_device()                 # get the current available device ('cpu' or 'cuda')\n",
    "os.makedirs('models', exist_ok=True)  # The trained model will be saved to ./models/\n",
    "target_only = True                   # TODO: Using 40 states & 2 tested_positive features\n",
    "\n",
    "# TODO: How to tune these hyper-parameters to improve your model's performance?\n",
    "config = {\n",
    "    'n_epochs': 5000,                # maximum number of epochs\n",
    "    'batch_size': 60,               # mini-batch size for dataloader\n",
    "    'optimizer': 'Adam',              # optimization algorithm (optimizer in torch.optim)\n",
    "    'optim_hparas': {                # hyper-parameters for the optimizer (depends on which optimizer you are using)\n",
    "        'lr': 0.0001,                # learning rate of SGD\n",
    "        #'momentum': 0.7,              # momentum for SGD\n",
    "        'weight_decay': 0.0001\n",
    "    },\n",
    "    'early_stop': 750,               # early stopping epochs (the number epochs since your model's last improvement)\n",
    "    'save_path': 'models/model.pth'  # your model will be saved here\n",
    "}"
   ]
  },
  {
   "cell_type": "markdown",
   "metadata": {
    "id": "6j1eOV3TOH-j"
   },
   "source": [
    "# **Load data and model**"
   ]
  },
  {
   "cell_type": "code",
   "execution_count": 42,
   "metadata": {
    "colab": {
     "base_uri": "https://localhost:8080/"
    },
    "id": "eNrYBMmePLKm",
    "outputId": "c8bc7ef4-286d-4203-c937-a0e656293861"
   },
   "outputs": [
    {
     "name": "stdout",
     "output_type": "stream",
     "text": [
      "Finished reading the train set of COVID19 Dataset (2700 samples found, each dim = 14)\n",
      "Finished reading the dev set of COVID19 Dataset (675 samples found, each dim = 14)\n",
      "Finished reading the test set of COVID19 Dataset (893 samples found, each dim = 14)\n"
     ]
    }
   ],
   "source": [
    "tr_set = prep_dataloader(tr_path, 'train', config['batch_size'], target_only=target_only)\n",
    "dv_set = prep_dataloader(tr_path, 'dev', config['batch_size'], target_only=target_only)\n",
    "tt_set = prep_dataloader(tt_path, 'test', config['batch_size'], target_only=target_only)"
   ]
  },
  {
   "cell_type": "code",
   "execution_count": 43,
   "metadata": {
    "id": "FHylSirLP9oh"
   },
   "outputs": [],
   "source": [
    "model = NeuralNet(tr_set.dataset.dim).to(device)  # Construct model and move to device"
   ]
  },
  {
   "cell_type": "markdown",
   "metadata": {
    "id": "sX2B_zgSOPTJ"
   },
   "source": [
    "# **Start Training!**"
   ]
  },
  {
   "cell_type": "code",
   "execution_count": 44,
   "metadata": {
    "colab": {
     "base_uri": "https://localhost:8080/"
    },
    "id": "GrEbUxazQAAZ",
    "outputId": "02292d80-2545-41dc-d239-f018b6369fca"
   },
   "outputs": [
    {
     "name": "stdout",
     "output_type": "stream",
     "text": [
      "Saving model (epoch =    1, loss = 4.1443)\n",
      "Saving model (epoch =    2, loss = 3.8554)\n",
      "Saving model (epoch =    3, loss = 3.5594)\n",
      "Saving model (epoch =    4, loss = 3.2146)\n",
      "Saving model (epoch =    5, loss = 2.8647)\n",
      "Saving model (epoch =    6, loss = 2.4783)\n",
      "Saving model (epoch =    7, loss = 2.0780)\n",
      "Saving model (epoch =    8, loss = 1.6957)\n",
      "Saving model (epoch =    9, loss = 1.3468)\n",
      "Saving model (epoch =   10, loss = 1.1473)\n",
      "Saving model (epoch =   11, loss = 1.0830)\n",
      "Saving model (epoch =   12, loss = 1.0725)\n",
      "Saving model (epoch =   14, loss = 1.0686)\n",
      "Saving model (epoch =   15, loss = 1.0620)\n",
      "Saving model (epoch =   17, loss = 1.0527)\n",
      "Saving model (epoch =   19, loss = 1.0478)\n",
      "Saving model (epoch =   20, loss = 1.0454)\n",
      "Saving model (epoch =   22, loss = 1.0410)\n",
      "Saving model (epoch =   24, loss = 1.0369)\n",
      "Saving model (epoch =   26, loss = 1.0325)\n",
      "Saving model (epoch =   32, loss = 1.0256)\n",
      "Saving model (epoch =   34, loss = 1.0246)\n",
      "Saving model (epoch =   37, loss = 1.0153)\n",
      "Saving model (epoch =   38, loss = 1.0131)\n",
      "Saving model (epoch =   40, loss = 1.0125)\n",
      "Saving model (epoch =   42, loss = 1.0076)\n",
      "Saving model (epoch =   43, loss = 1.0048)\n",
      "Saving model (epoch =   44, loss = 1.0027)\n",
      "Saving model (epoch =   49, loss = 1.0023)\n",
      "Saving model (epoch =   50, loss = 0.9983)\n",
      "Saving model (epoch =   52, loss = 0.9939)\n",
      "Saving model (epoch =   55, loss = 0.9939)\n",
      "Saving model (epoch =   56, loss = 0.9885)\n",
      "Saving model (epoch =   60, loss = 0.9854)\n",
      "Saving model (epoch =   64, loss = 0.9843)\n",
      "Saving model (epoch =   68, loss = 0.9793)\n",
      "Saving model (epoch =   70, loss = 0.9789)\n",
      "Saving model (epoch =   71, loss = 0.9779)\n",
      "Saving model (epoch =   76, loss = 0.9744)\n",
      "Saving model (epoch =   81, loss = 0.9730)\n",
      "Saving model (epoch =   83, loss = 0.9720)\n",
      "Saving model (epoch =   85, loss = 0.9709)\n",
      "Saving model (epoch =   87, loss = 0.9701)\n",
      "Saving model (epoch =   90, loss = 0.9697)\n",
      "Saving model (epoch =   95, loss = 0.9684)\n",
      "Saving model (epoch =   96, loss = 0.9673)\n",
      "Saving model (epoch =   98, loss = 0.9672)\n",
      "Saving model (epoch =  100, loss = 0.9661)\n",
      "Saving model (epoch =  102, loss = 0.9656)\n",
      "Saving model (epoch =  107, loss = 0.9648)\n",
      "Saving model (epoch =  112, loss = 0.9645)\n",
      "Saving model (epoch =  115, loss = 0.9632)\n",
      "Saving model (epoch =  119, loss = 0.9625)\n",
      "Saving model (epoch =  122, loss = 0.9621)\n",
      "Saving model (epoch =  127, loss = 0.9612)\n",
      "Saving model (epoch =  131, loss = 0.9606)\n",
      "Saving model (epoch =  134, loss = 0.9604)\n",
      "Saving model (epoch =  143, loss = 0.9599)\n",
      "Saving model (epoch =  147, loss = 0.9587)\n",
      "Saving model (epoch =  155, loss = 0.9576)\n",
      "Saving model (epoch =  171, loss = 0.9559)\n",
      "Saving model (epoch =  174, loss = 0.9559)\n",
      "Saving model (epoch =  184, loss = 0.9555)\n",
      "Saving model (epoch =  185, loss = 0.9549)\n",
      "Saving model (epoch =  193, loss = 0.9541)\n",
      "Saving model (epoch =  196, loss = 0.9536)\n",
      "Saving model (epoch =  199, loss = 0.9535)\n",
      "Saving model (epoch =  200, loss = 0.9531)\n",
      "Saving model (epoch =  214, loss = 0.9529)\n",
      "Saving model (epoch =  215, loss = 0.9523)\n",
      "Saving model (epoch =  219, loss = 0.9511)\n",
      "Saving model (epoch =  222, loss = 0.9506)\n",
      "Saving model (epoch =  235, loss = 0.9498)\n",
      "Saving model (epoch =  249, loss = 0.9488)\n",
      "Saving model (epoch =  266, loss = 0.9477)\n",
      "Saving model (epoch =  269, loss = 0.9475)\n",
      "Saving model (epoch =  279, loss = 0.9463)\n",
      "Saving model (epoch =  290, loss = 0.9460)\n",
      "Saving model (epoch =  302, loss = 0.9459)\n",
      "Saving model (epoch =  303, loss = 0.9453)\n",
      "Saving model (epoch =  304, loss = 0.9445)\n",
      "Saving model (epoch =  312, loss = 0.9444)\n",
      "Saving model (epoch =  321, loss = 0.9438)\n",
      "Saving model (epoch =  325, loss = 0.9432)\n",
      "Saving model (epoch =  337, loss = 0.9428)\n",
      "Saving model (epoch =  355, loss = 0.9421)\n",
      "Saving model (epoch =  365, loss = 0.9419)\n",
      "Saving model (epoch =  380, loss = 0.9417)\n",
      "Saving model (epoch =  381, loss = 0.9410)\n",
      "Saving model (epoch =  384, loss = 0.9406)\n",
      "Saving model (epoch =  403, loss = 0.9405)\n",
      "Saving model (epoch =  414, loss = 0.9404)\n",
      "Saving model (epoch =  424, loss = 0.9399)\n",
      "Saving model (epoch =  427, loss = 0.9390)\n",
      "Saving model (epoch =  431, loss = 0.9390)\n",
      "Saving model (epoch =  448, loss = 0.9385)\n",
      "Saving model (epoch =  464, loss = 0.9380)\n",
      "Saving model (epoch =  489, loss = 0.9371)\n",
      "Saving model (epoch =  507, loss = 0.9369)\n",
      "Saving model (epoch =  512, loss = 0.9368)\n",
      "Saving model (epoch =  519, loss = 0.9364)\n",
      "Saving model (epoch =  537, loss = 0.9363)\n",
      "Saving model (epoch =  549, loss = 0.9362)\n",
      "Saving model (epoch =  552, loss = 0.9361)\n",
      "Saving model (epoch =  565, loss = 0.9356)\n",
      "Saving model (epoch =  578, loss = 0.9352)\n",
      "Saving model (epoch =  594, loss = 0.9351)\n",
      "Saving model (epoch =  598, loss = 0.9351)\n",
      "Saving model (epoch =  601, loss = 0.9350)\n",
      "Saving model (epoch =  634, loss = 0.9347)\n",
      "Saving model (epoch =  636, loss = 0.9347)\n",
      "Saving model (epoch =  638, loss = 0.9346)\n",
      "Saving model (epoch =  667, loss = 0.9342)\n",
      "Saving model (epoch =  700, loss = 0.9334)\n",
      "Saving model (epoch =  746, loss = 0.9332)\n",
      "Saving model (epoch =  761, loss = 0.9331)\n",
      "Saving model (epoch =  804, loss = 0.9327)\n",
      "Saving model (epoch =  812, loss = 0.9323)\n",
      "Saving model (epoch =  861, loss = 0.9323)\n",
      "Saving model (epoch =  911, loss = 0.9321)\n",
      "Saving model (epoch =  946, loss = 0.9320)\n",
      "Saving model (epoch =  962, loss = 0.9320)\n",
      "Saving model (epoch =  965, loss = 0.9318)\n",
      "Saving model (epoch =  980, loss = 0.9317)\n",
      "Saving model (epoch = 1017, loss = 0.9314)\n",
      "Saving model (epoch = 1049, loss = 0.9312)\n",
      "Saving model (epoch = 1069, loss = 0.9311)\n",
      "Saving model (epoch = 1134, loss = 0.9311)\n",
      "Saving model (epoch = 1163, loss = 0.9309)\n",
      "Saving model (epoch = 1215, loss = 0.9309)\n",
      "Saving model (epoch = 1240, loss = 0.9308)\n",
      "Saving model (epoch = 1244, loss = 0.9307)\n",
      "Saving model (epoch = 1260, loss = 0.9307)\n",
      "Saving model (epoch = 1298, loss = 0.9306)\n",
      "Saving model (epoch = 1325, loss = 0.9305)\n",
      "Saving model (epoch = 1349, loss = 0.9302)\n",
      "Saving model (epoch = 1474, loss = 0.9302)\n",
      "Saving model (epoch = 1482, loss = 0.9301)\n",
      "Saving model (epoch = 1502, loss = 0.9301)\n",
      "Saving model (epoch = 1532, loss = 0.9298)\n",
      "Saving model (epoch = 1751, loss = 0.9298)\n",
      "Saving model (epoch = 1820, loss = 0.9298)\n",
      "Saving model (epoch = 1898, loss = 0.9295)\n",
      "Saving model (epoch = 2391, loss = 0.9295)\n",
      "Saving model (epoch = 2583, loss = 0.9293)\n",
      "Saving model (epoch = 2664, loss = 0.9292)\n",
      "Saving model (epoch = 2685, loss = 0.9292)\n",
      "Finished training after 3436 epochs\n"
     ]
    }
   ],
   "source": [
    "model_loss, model_loss_record = train(tr_set, dv_set, model, config, device)"
   ]
  },
  {
   "cell_type": "code",
   "execution_count": 45,
   "metadata": {
    "colab": {
     "base_uri": "https://localhost:8080/",
     "height": 295
    },
    "id": "hsNO9nnXQBvP",
    "outputId": "ea223228-17b2-4e62-ddce-d3c255c233dc"
   },
   "outputs": [
    {
     "data": {
      "image/png": "[encoded data removed]",
      "text/plain": [
       "<Figure size 432x288 with 1 Axes>"
      ]
     },
     "metadata": {
      "needs_background": "light",
      "tags": []
     },
     "output_type": "display_data"
    }
   ],
   "source": [
    "plot_learning_curve(model_loss_record, title='deep model')"
   ]
  },
  {
   "cell_type": "code",
   "execution_count": 46,
   "metadata": {
    "colab": {
     "base_uri": "https://localhost:8080/",
     "height": 350
    },
    "id": "3iZTVn5WQFpX",
    "outputId": "9c614603-b997-4e29-c74c-d2e8080420bd"
   },
   "outputs": [
    {
     "data": {
      "image/png": "[encoded data removed]",
      "text/plain": [
       "<Figure size 360x360 with 1 Axes>"
      ]
     },
     "metadata": {
      "needs_background": "light",
      "tags": []
     },
     "output_type": "display_data"
    }
   ],
   "source": [
    "del model\n",
    "model = NeuralNet(tr_set.dataset.dim).to(device)\n",
    "ckpt = torch.load(config['save_path'], map_location='cpu')  # Load your best model\n",
    "model.load_state_dict(ckpt)\n",
    "plot_pred(dv_set, model, device)  # Show prediction on the validation set"
   ]
  },
  {
   "cell_type": "markdown",
   "metadata": {
    "id": "aQikz3IPiyPf"
   },
   "source": [
    "# **Testing**\n",
    "The predictions of your model on testing set will be stored at `pred.csv`."
   ]
  },
  {
   "cell_type": "code",
   "execution_count": 47,
   "metadata": {
    "colab": {
     "base_uri": "https://localhost:8080/"
    },
    "id": "O8cTuQjQQOon",
    "outputId": "6295217e-3698-4b35-88a7-92bc6a0f1fbd"
   },
   "outputs": [
    {
     "name": "stdout",
     "output_type": "stream",
     "text": [
      "Saving results to pred.csv\n"
     ]
    }
   ],
   "source": [
    "def save_pred(preds, file):\n",
    "    ''' Save predictions to specified file '''\n",
    "    print('Saving results to {}'.format(file))\n",
    "    with open(file, 'w') as fp:\n",
    "        writer = csv.writer(fp)\n",
    "        writer.writerow(['id', 'tested_positive'])\n",
    "        for i, p in enumerate(preds):\n",
    "            writer.writerow([i, p])\n",
    "\n",
    "preds = test(tt_set, model, device)  # predict COVID-19 cases with your model\n",
    "save_pred(preds, 'pred.csv')         # save prediction file to pred.csv"
   ]
  },
  {
   "cell_type": "markdown",
   "metadata": {
    "id": "nfrVxqJanGpE"
   },
   "source": [
    "# **Hints**\n",
    "\n",
    "<s>\n",
    "\n",
    "## **Simple Baseline**\n",
    "* Run sample code\n",
    "\n",
    "## **Medium Baseline**\n",
    "* Feature selection: 40 states + 2 `tested_positive` (`TODO` in dataset)\n",
    "\n",
    "</s>\n",
    "\n",
    "## **Strong Baseline**\n",
    "* Feature selection (what other features are useful?)\n",
    "* DNN architecture (layers? dimension? activation function?)\n",
    "* Training (mini-batch? optimizer? learning rate?)\n",
    "* L2 regularization\n",
    "* There are some mistakes in the sample code, can you find them?"
   ]
  },
  {
   "cell_type": "markdown",
   "metadata": {
    "id": "9tmCwXgpot3t"
   },
   "source": [
    "# **Reference**\n",
    "Source: Heng-Jui Chang @ NTUEE (https://github.com/ga642381/ML2021-Spring/blob/main/HW01/HW01.ipynb)\n"
   ]
  },
  {
   "cell_type": "code",
   "execution_count": 48,
   "metadata": {
    "colab": {
     "base_uri": "https://localhost:8080/"
    },
    "id": "M2yGOCy1zsKy",
    "outputId": "6a2c6b19-a216-4699-b802-4f6bedeacf17"
   },
   "outputs": [
    {
     "name": "stdout",
     "output_type": "stream",
     "text": [
      "Fri Mar 26 16:18:35 2021       \n",
      "+-----------------------------------------------------------------------------+\n",
      "| NVIDIA-SMI 460.56       Driver Version: 460.32.03    CUDA Version: 11.2     |\n",
      "|-------------------------------+----------------------+----------------------+\n",
      "| GPU  Name        Persistence-M| Bus-Id        Disp.A | Volatile Uncorr. ECC |\n",
      "| Fan  Temp  Perf  Pwr:Usage/Cap|         Memory-Usage | GPU-Util  Compute M. |\n",
      "|                               |                      |               MIG M. |\n",
      "|===============================+======================+======================|\n",
      "|   0  Tesla T4            Off  | 00000000:00:04.0 Off |                    0 |\n",
      "| N/A   77C    P0    34W /  70W |   1054MiB / 15109MiB |      1%      Default |\n",
      "|                               |                      |                  N/A |\n",
      "+-------------------------------+----------------------+----------------------+\n",
      "                                                                               \n",
      "+-----------------------------------------------------------------------------+\n",
      "| Processes:                                                                  |\n",
      "|  GPU   GI   CI        PID   Type   Process name                  GPU Memory |\n",
      "|        ID   ID                                                   Usage      |\n",
      "|=============================================================================|\n",
      "+-----------------------------------------------------------------------------+\n"
     ]
    }
   ],
   "source": [
    "!nvidia-smi"
   ]
  }
 ],
 "metadata": {
  "accelerator": "GPU",
  "colab": {
   "collapsed_sections": [],
   "name": "Copy of ML2021Spring - HW1.ipynb",
   "provenance": []
  },
  "kernelspec": {
   "display_name": "Python 3",
   "language": "python",
   "name": "python3"
  },
  "language_info": {
   "codemirror_mode": {
    "name": "ipython",
    "version": 3
   },
   "file_extension": ".py",
   "mimetype": "text/x-python",
   "name": "python",
   "nbconvert_exporter": "python",
   "pygments_lexer": "ipython3",
   "version": "3.8.3"
  }
 },
 "nbformat": 4,
 "nbformat_minor": 4
}
